{
 "cells": [
  {
   "cell_type": "markdown",
   "id": "eac8f972",
   "metadata": {
    "id": "dbd55073"
   },
   "source": [
    "<h1 align=center style=\"line-height:200%;font-family:vazir;color:#0099cc\">\n",
    "<font face=\"vazir\" color=\"#0099cc\">\n",
    "اکتشاف\n",
    "</font>\n",
    "</h1>"
   ]
  },
  {
   "cell_type": "markdown",
   "id": "5424bd74",
   "metadata": {
    "id": "ff28bfde"
   },
   "source": [
    "<h2 align=right style=\"line-height:200%;font-family:vazir;color:#0099cc\">\n",
    "<font face=\"vazir\" color=\"#0099cc\">\n",
    "    توضیحات اولیه\n",
    "</font>\n",
    "</h2>\n",
    "\n",
    "<p dir=rtl style=\"direction: rtl;text-align: right;line-height:200%;font-family:vazir;font-size:medium\">\n",
    "<font face=\"vazir\" size=3>    برای آشنایی بیشتر با دادگان این پروژه، در این مرحله اقدام به انجام عملیات اکتشاف می‌کنیم. با استفاده از دادگان پردازش‌شده در گام قبل (<code>preprocessed_sales.csv</code>)، جواب هر کدام از سوال‌های زیر را در متغیر توضیح داده شده آن سوال، قرار دهید.\n",
    "</font>\n",
    "</p>"
   ]
  },
  {
   "cell_type": "markdown",
   "id": "aa49f4cb",
   "metadata": {},
   "source": [
    "   \n",
    "<h2 align=right style=\"line-height:200%;font-family:vazir;color:#0099cc\">\n",
    "<font face=\"vazir\" color=\"#0099cc\">\n",
    "    کتابخانه‌ها\n",
    "</font>\n",
    "</h2>\n",
    "\n",
    "<p dir=rtl style=\"direction: rtl;text-align: right;line-height:200%;font-family:vazir;font-size:medium\">\n",
    "<font face=\"vazir\" size=3>\n",
    "       ابتدا کتاب‌خانه‌های مورد نیاز خود را اضافه کنید.    \n",
    "</font>\n",
    "</p>"
   ]
  },
  {
   "cell_type": "code",
   "execution_count": 1,
   "id": "e32ca5f1",
   "metadata": {
    "id": "4a1c31c4"
   },
   "outputs": [],
   "source": [
    "# import libraries\n",
    "import pandas as pd\n",
    "import matplotlib.pyplot as plt"
   ]
  },
  {
   "cell_type": "markdown",
   "id": "eda4fe99",
   "metadata": {
    "id": "76c16791"
   },
   "source": [
    "\n",
    "<h2 align=right style=\"line-height:200%;font-family:vazir;color:#0099cc\">\n",
    "<font face=\"vazir\" color=\"#0099cc\">\n",
    "    خواندن مجموعه داده\n",
    "</font>\n",
    "</h2>\n",
    "\n",
    "<p dir=rtl style=\"direction: rtl;text-align: right;line-height:200%;font-family:vazir;font-size:medium\">\n",
    "<font face=\"vazir\" size=3>\n",
    "    فایل پیش‌پردازش‌شده را بخوانید.\n",
    "</font>\n",
    "</p>"
   ]
  },
  {
   "cell_type": "code",
   "execution_count": 2,
   "id": "e8832d69",
   "metadata": {
    "colab": {
     "base_uri": "https://localhost:8080/",
     "height": 434
    },
    "id": "b0ad0cab",
    "outputId": "ed789465-43da-484a-bc18-fcd536a6f65d"
   },
   "outputs": [
    {
     "data": {
      "text/html": [
       "<div>\n",
       "<style scoped>\n",
       "    .dataframe tbody tr th:only-of-type {\n",
       "        vertical-align: middle;\n",
       "    }\n",
       "\n",
       "    .dataframe tbody tr th {\n",
       "        vertical-align: top;\n",
       "    }\n",
       "\n",
       "    .dataframe thead th {\n",
       "        text-align: right;\n",
       "    }\n",
       "</style>\n",
       "<table border=\"1\" class=\"dataframe\">\n",
       "  <thead>\n",
       "    <tr style=\"text-align: right;\">\n",
       "      <th></th>\n",
       "      <th>InvoiceNumber</th>\n",
       "      <th>ProductCode</th>\n",
       "      <th>ProductName</th>\n",
       "      <th>Quantity</th>\n",
       "      <th>InvoiceDate</th>\n",
       "      <th>UnitPrice</th>\n",
       "      <th>CustomerId</th>\n",
       "      <th>Country</th>\n",
       "    </tr>\n",
       "  </thead>\n",
       "  <tbody>\n",
       "    <tr>\n",
       "      <th>0</th>\n",
       "      <td>489434</td>\n",
       "      <td>85048</td>\n",
       "      <td>15CM CHRISTMAS GLASS BALL 20 LIGHTS</td>\n",
       "      <td>12</td>\n",
       "      <td>2009-12-01 07:45:00</td>\n",
       "      <td>6.95</td>\n",
       "      <td>13085</td>\n",
       "      <td>United Kingdom</td>\n",
       "    </tr>\n",
       "    <tr>\n",
       "      <th>1</th>\n",
       "      <td>489434</td>\n",
       "      <td>79323P</td>\n",
       "      <td>PINK CHERRY LIGHTS</td>\n",
       "      <td>12</td>\n",
       "      <td>2009-12-01 07:45:00</td>\n",
       "      <td>6.75</td>\n",
       "      <td>13085</td>\n",
       "      <td>United Kingdom</td>\n",
       "    </tr>\n",
       "    <tr>\n",
       "      <th>2</th>\n",
       "      <td>489434</td>\n",
       "      <td>79323W</td>\n",
       "      <td>WHITE CHERRY LIGHTS</td>\n",
       "      <td>12</td>\n",
       "      <td>2009-12-01 07:45:00</td>\n",
       "      <td>6.75</td>\n",
       "      <td>13085</td>\n",
       "      <td>United Kingdom</td>\n",
       "    </tr>\n",
       "    <tr>\n",
       "      <th>3</th>\n",
       "      <td>489434</td>\n",
       "      <td>22041</td>\n",
       "      <td>RECORD FRAME 7\" SINGLE SIZE</td>\n",
       "      <td>48</td>\n",
       "      <td>2009-12-01 07:45:00</td>\n",
       "      <td>2.10</td>\n",
       "      <td>13085</td>\n",
       "      <td>United Kingdom</td>\n",
       "    </tr>\n",
       "    <tr>\n",
       "      <th>4</th>\n",
       "      <td>489434</td>\n",
       "      <td>21232</td>\n",
       "      <td>STRAWBERRY CERAMIC TRINKET BOX</td>\n",
       "      <td>24</td>\n",
       "      <td>2009-12-01 07:45:00</td>\n",
       "      <td>1.25</td>\n",
       "      <td>13085</td>\n",
       "      <td>United Kingdom</td>\n",
       "    </tr>\n",
       "  </tbody>\n",
       "</table>\n",
       "</div>"
      ],
      "text/plain": [
       "   InvoiceNumber ProductCode                          ProductName  Quantity  \\\n",
       "0         489434       85048  15CM CHRISTMAS GLASS BALL 20 LIGHTS        12   \n",
       "1         489434      79323P                   PINK CHERRY LIGHTS        12   \n",
       "2         489434      79323W                  WHITE CHERRY LIGHTS        12   \n",
       "3         489434       22041         RECORD FRAME 7\" SINGLE SIZE         48   \n",
       "4         489434       21232       STRAWBERRY CERAMIC TRINKET BOX        24   \n",
       "\n",
       "           InvoiceDate  UnitPrice  CustomerId         Country  \n",
       "0  2009-12-01 07:45:00       6.95       13085  United Kingdom  \n",
       "1  2009-12-01 07:45:00       6.75       13085  United Kingdom  \n",
       "2  2009-12-01 07:45:00       6.75       13085  United Kingdom  \n",
       "3  2009-12-01 07:45:00       2.10       13085  United Kingdom  \n",
       "4  2009-12-01 07:45:00       1.25       13085  United Kingdom  "
      ]
     },
     "execution_count": 2,
     "metadata": {},
     "output_type": "execute_result"
    }
   ],
   "source": [
    "df = pd.read_csv('./preprocessed_sales.csv')\n",
    "df.head()"
   ]
  },
  {
   "cell_type": "markdown",
   "id": "f52bb07c",
   "metadata": {
    "id": "8d09f90e"
   },
   "source": [
    "<h2 align=right style=\"line-height:200%;font-family:vazir;color:#0099cc\">\n",
    "<font face=\"vazir\" color=\"#0099cc\">\n",
    "    قسمت اول\n",
    "</font>\n",
    "</h2>\n",
    "\n",
    "<p dir=rtl style=\"direction: rtl;text-align: right;line-height:200%;font-family:vazir;font-size:medium\">\n",
    "<font face=\"vazir\" size=3>\n",
    "    تعداد فاکتورهای باقی‌مانده چند عدد است؟ جواب خود را در متغیر <code>number_of_orders</code> قرار دهید\n",
    "        \n",
    "</font>\n",
    "</p>"
   ]
  },
  {
   "cell_type": "code",
   "execution_count": 3,
   "id": "7e0de5ef",
   "metadata": {
    "id": "d54f4178"
   },
   "outputs": [],
   "source": [
    "# calculate the number of remaining orders\n",
    "df['InvoiceNumber'].nunique()\n",
    "number_of_orders = 19213"
   ]
  },
  {
   "cell_type": "markdown",
   "id": "29fc6546",
   "metadata": {
    "id": "386781c4"
   },
   "source": [
    "\n",
    "<h2 align=right style=\"line-height:200%;font-family:vazir;color:#0099cc\">\n",
    "<font face=\"vazir\" color=\"#0099cc\">\n",
    "    قسمت دوم\n",
    "</font>\n",
    "</h2>\n",
    "\n",
    "<p dir=rtl style=\"direction: rtl;text-align: right;line-height:200%;font-family:vazir;font-size:medium\">\n",
    "<font face=\"vazir\" size=3>\n",
    "در چه بازه زمانی، این دادگان جمع شده‌اند؟ جواب خود را به صورت یک tuple (به ترتیب کوچک‌ترین و بزرگترین زمان) در متغیر <code>window_period</code> قرار دهید.\n",
    "    <br>\n",
    "    به عنوان مثال، اگر فرضا کوچک‌ترین زمان، 18:20:00 05-04-2008 و بزرگ‌ترین زمان 20:40:00 19-11-2010 باشد، متغیر <code>window_period</code> به صورت زیر مقدار‌دهی می‌شود \n",
    "</font>\n",
    "</p>\n",
    "\n",
    "```python\n",
    "window_period = ('2008-04-05 18:20:00', '2010-11-19 20:40:00')\n",
    "```\n",
    "\n",
    "<p dir=rtl style=\"direction: rtl;text-align: right;line-height:200%;font-family:vazir;font-size:medium\">\n",
    "<font face=\"vazir\" size=3>\n",
    "توجه کنید که مثال بالا کاملا تصادفی است و ممکن است جوابی که شما به دست می‌آورید، با آن متفاوت باشد.\n",
    "</font>\n",
    "</p>"
   ]
  },
  {
   "cell_type": "code",
   "execution_count": 4,
   "id": "24c0d07f",
   "metadata": {
    "id": "95f58e32"
   },
   "outputs": [
    {
     "data": {
      "text/plain": [
       "('2009-12-01 07:45:00', '2010-12-09 20:01:00')"
      ]
     },
     "execution_count": 4,
     "metadata": {},
     "output_type": "execute_result"
    }
   ],
   "source": [
    "# calculate the period window\n",
    "#print(df['InvoiceDate'].min())\n",
    "#print(df['InvoiceDate'].max())\n",
    "window_period = ('2009-12-01 07:45:00', '2010-12-09 20:01:00')\n",
    "window_period"
   ]
  },
  {
   "cell_type": "markdown",
   "id": "e5fa5236",
   "metadata": {},
   "source": [
    "<h2 align=right style=\"line-height:200%;font-family:vazir;color:#0099cc\">\n",
    "<font face=\"vazir\" color=\"#0099cc\">\n",
    "    قسمت سوم\n",
    "</font>\n",
    "</h2>\n",
    "\n",
    "<p dir=rtl style=\"direction: rtl;text-align: right;line-height:200%;font-family:vazir;font-size:medium\">\n",
    "<font face=\"vazir\" size=3>\n",
    "با استفاده از نمودار میله‌ای، نشان دهید که در هر روز هفته، چند فاکتور صادر شده است.\n",
    "<br>\n",
    "برای انجام این کار، ابتدا باید روزی از هفته که معامله در آن انجام شده است را پیدا کنید، سپس محاسبه کنید که در هر روز هفته، چند فاکتور یکتا صادر شده است.\n",
    "<br>\n",
    "نمودار شما به شکل زیر خواهد شد:\n",
    "</font>\n",
    "</p>\n",
    "\n",
    "<p style=\"text-align:center;\"><img src=\"output.png\"></p>\n",
    "\n",
    "<h2 align=right style=\"line-height:200%;font-family:vazir;color:#0099cc\">\n",
    "<font face=\"vazir\" color=\"#0099cc\">\n",
    "ویژگی‌های نمودار\n",
    "</font>\n",
    "</h2>\n",
    "\n",
    "<p dir=rtl style=\"direction: rtl;text-align: right;line-height:200%;font-family:vazir;font-size:medium\">\n",
    "<table dir=rtl align = center>\n",
    "\n",
    "<tr>\n",
    "<th><font face=\"vazir\" size=3>ویژگی</th>\n",
    "<th><font face=\"vazir\" size=3>مقدار</th>\n",
    "</tr>\n",
    "\n",
    "<tr>\n",
    "<td><font face=\"vazir\" size=3>اندازه شکل</td>\n",
    "<td><font face=\"vazir\" size=3>۱۵ در ۶ اینچ</td>\n",
    "</tr>\n",
    "\n",
    "<tr>\n",
    "<td><font face=\"vazir\" size=3>رنگ میله‌ها</td>\n",
    "<td><font face=\"vazir\" size=3>lime</td>\n",
    "</tr>\n",
    "\n",
    "<tr>\n",
    "<td><font face=\"vazir\" size=3>رنگ عنوان محور افقی و عمودی</td>\n",
    "<td><font face=\"vazir\" size=3>lightseagreen</td>\n",
    "</tr>\n",
    "\n",
    "<tr>\n",
    "<td><font face=\"vazir\" size=3>رنگ عنوان صفحه محور</td>\n",
    "<td><font face=\"vazir\" size=3>green</td>\n",
    "</tr>\n",
    "\n",
    "<tr>\n",
    "<td><font face=\"vazir\" size=3>اندازه فونت عنوان صفحه محور، عنوان محورهای افقی و عمودی و اسم روزهای هفته  </td>\n",
    "<td><font face=\"vazir\" size=3>۱۵</td>\n",
    "</tr>\n",
    "\n",
    "<tr>\n",
    "<td><font face=\"vazir\" size=3>زاویه اسم روزها هفته </td>\n",
    "<td><font face=\"vazir\" size=3>۰</td>\n",
    "</tr>\n",
    "\n",
    "</table>\n",
    "</p>\n",
    "\n"
   ]
  },
  {
   "cell_type": "code",
   "execution_count": 5,
   "id": "9d43f9f2",
   "metadata": {
    "id": "54fadd06"
   },
   "outputs": [
    {
     "data": {
      "image/png": "[encoded data removed]",
      "text/plain": [
       "<Figure size 1080x432 with 1 Axes>"
      ]
     },
     "metadata": {
      "needs_background": "light"
     },
     "output_type": "display_data"
    }
   ],
   "source": [
    "# plot the number of orders per week day\n",
    "df1 = df.copy()\n",
    "df1['InvoiceDate'] = pd.to_datetime(df1['InvoiceDate'])\n",
    "df1['day'] = df1['InvoiceDate'].dt.day_name()\n",
    "\n",
    "fig1 , ax1 = plt.subplots(figsize = (15,6))\n",
    "days = ['Monday', 'Tuesday', 'Wednesday', 'Thursday', 'Friday', 'Saturday', 'Sunday']\n",
    "x = df1.groupby('day')['InvoiceNumber'].nunique()\n",
    "x = x.reindex(days)\n",
    "x.plot(ax = ax1, kind = 'bar', color ='lime')\n",
    "ax1.set_xticklabels(labels = ['Mon', 'Tue', 'Wed', 'Thur', 'Fri', 'Sat', 'Sun'], rotation = 0, size = 15);\n",
    "ax1.set_title('Number of orders for different Days', color = 'green', size = 15)\n",
    "ax1.set_xlabel('Day', color='lightseagreen', size = 15)\n",
    "ax1.set_ylabel('Number of Orders', color='lightseagreen', size = 15);"
   ]
  },
  {
   "cell_type": "markdown",
   "id": "f3fd05e8",
   "metadata": {},
   "source": [
    "<h2 align=right style=\"line-height:200%;font-family:vazir;color:#0099cc\">\n",
    "<font face=\"vazir\" color=\"#0099cc\">\n",
    "    قسمت چهارم\n",
    "</font>\n",
    "</h2>\n",
    "\n",
    "<p dir=rtl style=\"direction: rtl;text-align: right;line-height:200%;font-family:vazir;font-size:medium\">\n",
    "<font face=\"vazir\" size=3>\n",
    "این بار از شما خواسته‌اند تا مجموع فروش در هر ماه را در یک نمودار میله‌ای تحویلشان دهید.\n",
    "<br>\n",
    "<br>\n",
    "برای رسم این نمودار، باید مجموع هزینه دریافتی برای هر فاکتور را محاسبه کنید. سپس با استفاده از مجموع هزینه دریافتی و زمان انجام معاملات، نمودار زیر را رسم کنید.\n",
    "</font>\n",
    "</p>\n",
    "\n",
    "<p style=\"text-align:center;\"><img src=\"output2.png\"></p>\n",
    "\n",
    "\n",
    "<h2 align=right style=\"line-height:200%;font-family:vazir;color:#0099cc\">\n",
    "<font face=\"vazir\" color=\"#0099cc\">\n",
    "ویژگی‌های نمودار\n",
    "</font>\n",
    "</h2>\n",
    "\n",
    "<p dir=rtl style=\"direction: rtl;text-align: right;line-height:200%;font-family:vazir;font-size:medium\">\n",
    "<table dir=rtl align = center>\n",
    "\n",
    "<tr>\n",
    "<th><font face=\"vazir\" size=3>ویژگی</th>\n",
    "<th><font face=\"vazir\" size=3>مقدار</th>\n",
    "</tr>\n",
    "\n",
    "<tr>\n",
    "<td><font face=\"vazir\" size=3>اندازه شکل</td>\n",
    "<td><font face=\"vazir\" size=3>۱۵ در ۶ اینچ</td>\n",
    "</tr>\n",
    "\n",
    "<tr>\n",
    "<td><font face=\"vazir\" size=3>رنگ میله‌ها</td>\n",
    "<td><font face=\"vazir\" size=3>darkkhaki</td>\n",
    "</tr>\n",
    "\n",
    "<tr>\n",
    "<td><font face=\"vazir\" size=3>رنگ عنوان محور افقی و عمودی</td>\n",
    "<td><font face=\"vazir\" size=3>orange</td>\n",
    "</tr>\n",
    "\n",
    "<tr>\n",
    "<td><font face=\"vazir\" size=3>رنگ عنوان صفحه محور</td>\n",
    "<td><font face=\"vazir\" size=3>cadetblue</td>\n",
    "</tr>\n",
    "\n",
    "<tr>\n",
    "<td><font face=\"vazir\" size=3>اندازه فونت عنوان صفحه محور، عنوان محورهای افقی و عمودی  </td>\n",
    "<td><font face=\"vazir\" size=3>۱۵</td>\n",
    "</tr>\n",
    "\n",
    "<tr>\n",
    "<td><font face=\"vazir\" size=3>اندازه فونت اسم ماه‌ها  </td>\n",
    "<td><font face=\"vazir\" size=3>۱۳</td>\n",
    "</tr>\n",
    "\n",
    "<tr>\n",
    "<td><font face=\"vazir\" size=3>زاویه اسم ماه‌ها </td>\n",
    "<td><font face=\"vazir\" size=3>۴۵</td>\n",
    "</tr>\n",
    "\n",
    "</table>\n",
    "</p>\n"
   ]
  },
  {
   "cell_type": "code",
   "execution_count": 51,
   "id": "074c5cc0",
   "metadata": {},
   "outputs": [
    {
     "name": "stderr",
     "output_type": "stream",
     "text": [
      "C:\\Users\\kiang\\AppData\\Local\\Temp/ipykernel_13036/1819572786.py:9: UserWarning: FixedFormatter should only be used together with FixedLocator\n",
      "  ax2.set_xticklabels(labels=['Dec_2009','Jan_2010','Feb_2010', 'Mar_2010','Apr_2010','May_2010','Jun_2010','July_2010','Aug_2010','Sep_2010','Oct_2010','Nov_2010','Dec_2010'], rotation=45, size = 13);\n"
     ]
    },
    {
     "data": {
      "text/plain": [
       "InvoiceNumber\n",
       "489434     505.30\n",
       "489435     145.80\n",
       "489436     630.33\n",
       "489437     310.75\n",
       "489438    2286.24\n",
       "           ...   \n",
       "538167     298.95\n",
       "538168     310.45\n",
       "538169      93.45\n",
       "538170     317.59\n",
       "538171     300.64\n",
       "Name: mul, Length: 19213, dtype: float64"
      ]
     },
     "execution_count": 51,
     "metadata": {},
     "output_type": "execute_result"
    },
    {
     "data": {
      "image/png": "[encoded data removed]",
      "text/plain": [
       "<Figure size 1080x432 with 1 Axes>"
      ]
     },
     "metadata": {
      "needs_background": "light"
     },
     "output_type": "display_data"
    }
   ],
   "source": [
    "df2 = df.copy()\n",
    "df2['mul'] = df['UnitPrice'] * df['Quantity']\n",
    "df2['Sum'] = df2.groupby('InvoiceNumber')['mul'].sum()\n",
    "df2['InvoiceDate'] = pd.to_datetime(df2['InvoiceDate'])\n",
    "df2['month'] = df2.InvoiceDate.dt.to_period('M')\n",
    "x = df2.groupby('month')['Sum'].size()\n",
    "fig2 , ax2 = plt.subplots(figsize = (15,6))\n",
    "#x.plot(ax = ax2 , kind= 'bar', color = 'darkkhaki' )\n",
    "ax2.set_xticklabels(labels=['Dec_2009','Jan_2010','Feb_2010', 'Mar_2010','Apr_2010','May_2010','Jun_2010','July_2010','Aug_2010','Sep_2010','Oct_2010','Nov_2010','Dec_2010'], rotation=45, size = 13);\n",
    "ax2.set_xlabel('Month', color=\"orange\",size = 15)\n",
    "ax2.set_ylabel('Sales amount', color=\"orange\", size = 15);\n",
    "ax2.set_title('Number of orders for different Months',size = 15 ,color = 'cadetblue')\n",
    "df2.head(5)\n",
    "df23"
   ]
  },
  {
   "cell_type": "markdown",
   "id": "524c7888",
   "metadata": {
    "id": "121d3f7d"
   },
   "source": [
    "<h2 align=right style=\"line-height:200%;font-family:vazir;color:#0099cc\">\n",
    "<font face=\"vazir\" color=\"#0099cc\">\n",
    "سلول جواب‌ساز    \n",
    "</font>\n",
    "</h2>\n"
   ]
  },
  {
   "cell_type": "code",
   "execution_count": null,
   "id": "a95ddad9",
   "metadata": {
    "id": "tkcqzj4b6tv6"
   },
   "outputs": [
    {
     "name": "stdout",
     "output_type": "stream",
     "text": [
      "File Paths:\n",
      "['number_of_orders', 'window_period', 'fig1', 'fig2', '2_exploration.ipynb']\n"
     ]
    }
   ],
   "source": [
    "# export your results\n",
    "\n",
    "import zipfile\n",
    "import joblib\n",
    "\n",
    "joblib.dump(number_of_orders,\"number_of_orders\")\n",
    "joblib.dump(window_period,\"window_period\")\n",
    "joblib.dump(fig1,\"fig1\")\n",
    "joblib.dump(fig2,\"fig2\")\n",
    "\n",
    "\n",
    "def compress(file_names):\n",
    "    print(\"File Paths:\")\n",
    "    print(file_names)\n",
    "    # Select the compression mode ZIP_DEFLATED for compression\n",
    "    # or zipfile.ZIP_STORED to just store the file\n",
    "    compression = zipfile.ZIP_DEFLATED\n",
    "    # create the zip file first parameter path/name, second mode\n",
    "    with zipfile.ZipFile(\"result.zip\", mode=\"w\") as zf:\n",
    "        for file_name in file_names:\n",
    "            # Add file to the zip file\n",
    "            # first parameter file to zip, second filename in zip\n",
    "            zf.write('./' + file_name, file_name, compress_type=compression)\n",
    "\n",
    "file_names = [\"number_of_orders\", \"window_period\", \"fig1\", \"fig2\", \"2_exploration.ipynb\"]\n",
    "compress(file_names)"
   ]
  },
  {
   "cell_type": "code",
   "execution_count": null,
   "id": "e6b264fc-29d3-4ad3-aff3-d14885c10df8",
   "metadata": {},
   "outputs": [],
   "source": []
  }
 ],
 "metadata": {
  "colab": {
   "name": "exploration_answers.ipynb",
   "provenance": []
  },
  "interpreter": {
   "hash": "a1a46404003b1888471f66733c8ff43ecbbd22069e04669a0d47e7a2f84d0bb4"
  },
  "kernelspec": {
   "display_name": "Python 3 (ipykernel)",
   "language": "python",
   "name": "python3"
  },
  "language_info": {
   "codemirror_mode": {
    "name": "ipython",
    "version": 3
   },
   "file_extension": ".py",
   "mimetype": "text/x-python",
   "name": "python",
   "nbconvert_exporter": "python",
   "pygments_lexer": "ipython3",
   "version": "3.8.1"
  }
 },
 "nbformat": 4,
 "nbformat_minor": 5
}
