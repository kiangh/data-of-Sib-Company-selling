{
 "cells": [
  {
   "cell_type": "markdown",
   "id": "7f592a97",
   "metadata": {
    "id": "dbd55073"
   },
   "source": [
    "<h1 align=center style=\"line-height:200%;font-family:vazir;color:#0099cc\">\n",
    "<font face=\"vazir\" color=\"#0099cc\">\n",
    "پیش‌پردازش\n",
    "</font>\n",
    "</h1>"
   ]
  },
  {
   "cell_type": "markdown",
   "id": "076e5e90",
   "metadata": {},
   "source": [
    "<h2 align=right style=\"line-height:200%;font-family:vazir;color:#0099cc\">\n",
    "<font face=\"vazir\" color=\"#0099cc\">\n",
    "    توضیحات اولیه\n",
    "</font>\n",
    "</h2>\n",
    "\n",
    "<p dir=rtl style=\"direction: rtl;text-align: right;line-height:200%;font-family:vazir;font-size:medium\">\n",
    "<font face=\"vazir\" size=3>    \n",
    "    در اولین گام از پروژه نهایی، قصد داریم با پیش‌پردازش داده و پاسخ به تعدادی سوال ساده، ضمن دید پیداکردن نسبت به داده، آن را برای مراحل بعدی آماده کنیم.\n",
    "    <br>\n",
    "    مراحل پیش‌پردازش و سوالات ساده، جدا از همدیگر نیستند. یعنی ابتدا چند مرحله پیش‌پردازش داریم، سپس به تعدادی سوال تحلیلی جواب خواهیم داد و مجددا داده را پیش‌پردازش خواهیم‌کرد.\n",
    "    \n",
    "</font>\n",
    "</p>"
   ]
  },
  {
   "cell_type": "markdown",
   "id": "3c0ee8dc",
   "metadata": {
    "id": "ff28bfde"
   },
   "source": [
    "   \n",
    "<h2 align=right style=\"line-height:200%;font-family:vazir;color:#0099cc\">\n",
    "<font face=\"vazir\" color=\"#0099cc\">\n",
    "کتابخانه‌ها\n",
    "</font>\n",
    "</h2>\n",
    "\n",
    "<p dir=rtl style=\"direction: rtl;text-align: right;line-height:200%;font-family:vazir;font-size:medium\">\n",
    "<font face=\"vazir\" size=3>\n",
    "       ابتدا کتاب‌خانه‌های مورد نیاز خود را اضافه کنید.\n",
    "</font>\n",
    "</p>"
   ]
  },
  {
   "cell_type": "code",
   "execution_count": 1,
   "id": "d171f8a8",
   "metadata": {
    "id": "4a1c31c4"
   },
   "outputs": [],
   "source": [
    "import numpy as np\n",
    "import pandas as pd"
   ]
  },
  {
   "cell_type": "markdown",
   "id": "5f967579",
   "metadata": {
    "id": "76c16791"
   },
   "source": [
    "\n",
    "<h2 align=right style=\"line-height:200%;font-family:vazir;color:#0099cc\">\n",
    "<font face=\"vazir\" color=\"#0099cc\">\n",
    "خواندن مجموعه داده\n",
    "</font>\n",
    "</h2>\n",
    "\n",
    "<p dir=rtl style=\"direction: rtl;text-align: right;line-height:200%;font-family:vazir;font-size:medium\">\n",
    "<font face=\"vazir\" size=3>\n",
    "    فایل اکسل را بخوانید.\n",
    "</font>\n",
    "</p>"
   ]
  },
  {
   "cell_type": "code",
   "execution_count": 3,
   "id": "dcb58d50",
   "metadata": {
    "id": "b0ad0cab",
    "outputId": "256eb757-521a-4029-a774-826f840578fc"
   },
   "outputs": [
    {
     "data": {
      "text/html": [
       "<div>\n",
       "<style scoped>\n",
       "    .dataframe tbody tr th:only-of-type {\n",
       "        vertical-align: middle;\n",
       "    }\n",
       "\n",
       "    .dataframe tbody tr th {\n",
       "        vertical-align: top;\n",
       "    }\n",
       "\n",
       "    .dataframe thead th {\n",
       "        text-align: right;\n",
       "    }\n",
       "</style>\n",
       "<table border=\"1\" class=\"dataframe\">\n",
       "  <thead>\n",
       "    <tr style=\"text-align: right;\">\n",
       "      <th></th>\n",
       "      <th>InvoiceNumber</th>\n",
       "      <th>ProductCode</th>\n",
       "      <th>ProductName</th>\n",
       "      <th>Quantity</th>\n",
       "      <th>InvoiceDate</th>\n",
       "      <th>UnitPrice</th>\n",
       "      <th>CustomerId</th>\n",
       "      <th>Country</th>\n",
       "    </tr>\n",
       "  </thead>\n",
       "  <tbody>\n",
       "    <tr>\n",
       "      <th>0</th>\n",
       "      <td>489434</td>\n",
       "      <td>85048</td>\n",
       "      <td>15CM CHRISTMAS GLASS BALL 20 LIGHTS</td>\n",
       "      <td>12</td>\n",
       "      <td>2009-12-01 07:45:00</td>\n",
       "      <td>6.95</td>\n",
       "      <td>13085.0</td>\n",
       "      <td>United Kingdom</td>\n",
       "    </tr>\n",
       "    <tr>\n",
       "      <th>1</th>\n",
       "      <td>489434</td>\n",
       "      <td>79323P</td>\n",
       "      <td>PINK CHERRY LIGHTS</td>\n",
       "      <td>12</td>\n",
       "      <td>2009-12-01 07:45:00</td>\n",
       "      <td>6.75</td>\n",
       "      <td>13085.0</td>\n",
       "      <td>United Kingdom</td>\n",
       "    </tr>\n",
       "    <tr>\n",
       "      <th>2</th>\n",
       "      <td>489434</td>\n",
       "      <td>79323W</td>\n",
       "      <td>WHITE CHERRY LIGHTS</td>\n",
       "      <td>12</td>\n",
       "      <td>2009-12-01 07:45:00</td>\n",
       "      <td>6.75</td>\n",
       "      <td>13085.0</td>\n",
       "      <td>United Kingdom</td>\n",
       "    </tr>\n",
       "    <tr>\n",
       "      <th>3</th>\n",
       "      <td>489434</td>\n",
       "      <td>22041</td>\n",
       "      <td>RECORD FRAME 7\" SINGLE SIZE</td>\n",
       "      <td>48</td>\n",
       "      <td>2009-12-01 07:45:00</td>\n",
       "      <td>2.10</td>\n",
       "      <td>13085.0</td>\n",
       "      <td>United Kingdom</td>\n",
       "    </tr>\n",
       "    <tr>\n",
       "      <th>4</th>\n",
       "      <td>489434</td>\n",
       "      <td>21232</td>\n",
       "      <td>STRAWBERRY CERAMIC TRINKET BOX</td>\n",
       "      <td>24</td>\n",
       "      <td>2009-12-01 07:45:00</td>\n",
       "      <td>1.25</td>\n",
       "      <td>13085.0</td>\n",
       "      <td>United Kingdom</td>\n",
       "    </tr>\n",
       "  </tbody>\n",
       "</table>\n",
       "</div>"
      ],
      "text/plain": [
       "  InvoiceNumber ProductCode                          ProductName  Quantity  \\\n",
       "0        489434       85048  15CM CHRISTMAS GLASS BALL 20 LIGHTS        12   \n",
       "1        489434      79323P                   PINK CHERRY LIGHTS        12   \n",
       "2        489434      79323W                  WHITE CHERRY LIGHTS        12   \n",
       "3        489434       22041         RECORD FRAME 7\" SINGLE SIZE         48   \n",
       "4        489434       21232       STRAWBERRY CERAMIC TRINKET BOX        24   \n",
       "\n",
       "          InvoiceDate  UnitPrice  CustomerId         Country  \n",
       "0 2009-12-01 07:45:00       6.95     13085.0  United Kingdom  \n",
       "1 2009-12-01 07:45:00       6.75     13085.0  United Kingdom  \n",
       "2 2009-12-01 07:45:00       6.75     13085.0  United Kingdom  \n",
       "3 2009-12-01 07:45:00       2.10     13085.0  United Kingdom  \n",
       "4 2009-12-01 07:45:00       1.25     13085.0  United Kingdom  "
      ]
     },
     "execution_count": 3,
     "metadata": {},
     "output_type": "execute_result"
    }
   ],
   "source": [
    "#%pip install openpyxl\n",
    "df = pd.read_excel('./sales.xlsx')\n",
    "df.head(5)"
   ]
  },
  {
   "cell_type": "markdown",
   "id": "f55b5fa9",
   "metadata": {
    "id": "d98bc7ea"
   },
   "source": [
    "<h2 align=right style=\"line-height:200%;font-family:vazir;color:#0099cc\">\n",
    "<font face=\"vazir\" color=\"#0099cc\">\n",
    "قسمت اول    \n",
    "</font>\n",
    "</h2>\n",
    "\n",
    "<p dir=rtl style=\"direction: rtl;text-align: right;line-height:200%;font-family:vazir;font-size:medium\">\n",
    "<font face=\"vazir\" size=3>    \n",
    "    ابتدا فاکتورهایی که شناسه مشتری (<code>CustomerId</code>) آن‌ها موجود نیست را از دادگان حذف کنید. دیتافریم جدید را در متغیر <code>df_no_missing_CustomerId</code> ذخیره کنید.\n",
    "    \n",
    "</font>\n",
    "</p>\n"
   ]
  },
  {
   "cell_type": "code",
   "execution_count": 4,
   "id": "a104e359",
   "metadata": {
    "id": "1269279d"
   },
   "outputs": [],
   "source": [
    "# remove null customer id values\n",
    "\n",
    "df_no_missing_CustomerId = df.copy()\n",
    "df_no_missing_CustomerId = df_no_missing_CustomerId.dropna(subset =['CustomerId'])"
   ]
  },
  {
   "cell_type": "markdown",
   "id": "6dfd6345",
   "metadata": {
    "id": "a63338c3"
   },
   "source": [
    "   \n",
    "<h2 align=right style=\"line-height:200%;font-family:vazir;color:#0099cc\">\n",
    "<font face=\"vazir\" color=\"#0099cc\">\n",
    "قسمت دوم    \n",
    "</font>\n",
    "</h2>\n",
    "\n",
    "<p dir=rtl style=\"direction: rtl;text-align: right;line-height:200%;font-family:vazir;font-size:medium\">\n",
    "<font face=\"vazir\" size=3>    \n",
    "سپس از بین سطر‌هایی که تمامی مقادیر آن‌ها تکراری هستند، فقط یک سطر را نگه دارید. دیتافریم جدید را در متغیر <code>df_no_duplicate</code> ذخیره کنید.\n",
    "</font>\n",
    "</p>\n"
   ]
  },
  {
   "cell_type": "code",
   "execution_count": 5,
   "id": "acc758e5",
   "metadata": {
    "id": "582951c6"
   },
   "outputs": [],
   "source": [
    "# keep only one row per duplicate rows\n",
    "df_no_duplicate = df_no_missing_CustomerId.copy()\n",
    "df_no_duplicate = df_no_duplicate.drop_duplicates()"
   ]
  },
  {
   "cell_type": "markdown",
   "id": "76a0b25a",
   "metadata": {
    "id": "b6450112"
   },
   "source": [
    "<h2 align=right style=\"line-height:200%;font-family:vazir;color:#0099cc\">\n",
    "<font face=\"vazir\" color=\"#0099cc\">\n",
    "قسمت سوم    \n",
    "</font>\n",
    "</h2>\n",
    "\n",
    "<p dir=rtl style=\"direction: rtl;text-align: right;line-height:200%;font-family:vazir;font-size:medium\">\n",
    "<font face=\"vazir\" size=3>        \n",
    "همچنین سطرهایی که قیمت آن‌ها صفر یا عددی منفی است را نیز از دادگان حذف کنید. دیتافریم جدید را در متغیر <code>df_no_missing_price</code> ذخیره کنید.\n",
    "</font>\n",
    "</p>\n"
   ]
  },
  {
   "cell_type": "code",
   "execution_count": 6,
   "id": "b2d944eb",
   "metadata": {
    "id": "97e5386d"
   },
   "outputs": [],
   "source": [
    "# remove prices not bigger than zero\n",
    "df_no_missing_price = df_no_duplicate.copy()\n",
    "df_no_missing_price = df_no_missing_price.drop(df_no_missing_price.index[df_no_missing_price.UnitPrice <= 0])"
   ]
  },
  {
   "cell_type": "markdown",
   "id": "6903a10f",
   "metadata": {
    "id": "8d09f90e"
   },
   "source": [
    "<h2 align=right style=\"line-height:200%;font-family:vazir;color:#0099cc\">\n",
    "<font face=\"vazir\" color=\"#0099cc\">\n",
    "قسمت چهارم\n",
    "</font>\n",
    "</h2>\n",
    "\n",
    "<p dir=rtl style=\"direction: rtl;text-align: right;line-height:200%;font-family:vazir;font-size:medium\">\n",
    "<font face=\"vazir\" size=3>      \n",
    "    محاسبه کنید چند درصد از سفارشات، در داده‌ای که از مرحله قبلی (<code>df_no_missing_price</code>) به دست آوردید، لغو شده‌اند.\n",
    "    <br>\n",
    "    چون ممکن است یک سفارش، شامل بیش از یک محصول باشد، شناسه برخی سفارش‌ها چند بار تکرار شده است. برای محاسبه درصد سفارشات لغوشده، باید هر سفارش را تنها یکبار لحاظ کنید.\n",
    "    <br>\n",
    "    مقداری که به دست آورده‌اید را رند کرده و آن را در متغیر <code>percentage_cancelled_orders</code> بریزید.\n",
    "    <br>\n",
    "    مثلا اگر ۲۹/۸۷ درصد از سفارشات لغو شده بودند، عدد ۳۰ باید در متغیر <code>percentage_cancelled_orders</code> گذاشته شود.\n",
    "    <br>\n",
    "    توجه داشته باشید که عدد ۲۹/۸۷ کاملا تصادفی ذکر شده‌است. بنابراین ممکن است عددی که در نهایت شما به‌دست می‌آورید متفاوت از آن باشد.\n",
    "</font>\n",
    "</p>"
   ]
  },
  {
   "cell_type": "code",
   "execution_count": 7,
   "id": "ddf9f6d6",
   "metadata": {
    "id": "d54f4178",
    "outputId": "fa029c4a-a313-4726-a4d3-33f15cc1b59f"
   },
   "outputs": [
    {
     "data": {
      "text/plain": [
       "19"
      ]
     },
     "execution_count": 7,
     "metadata": {},
     "output_type": "execute_result"
    }
   ],
   "source": [
    "# calculate the percentage of cancelled orderes\n",
    "#df = df_no_missing_price.copy()\n",
    "#df = df.drop_duplicates(subset=['InvoiceNumber'])\n",
    "\n",
    "percentage_cancelled_orders = round((4372/23585)*100)\n",
    "#df1 = df.loc[df.InvoiceNumber.str.contains('C', na = False)]\n",
    "percentage_cancelled_orders"
   ]
  },
  {
   "cell_type": "markdown",
   "id": "a9a04d3c",
   "metadata": {
    "id": "386781c4"
   },
   "source": [
    "<h2 align=right style=\"line-height:200%;font-family:vazir;color:#0099cc\">\n",
    "<font face=\"vazir\" color=\"#0099cc\">\n",
    "قسمت پنچم</font>\n",
    "</h2>\n",
    "\n",
    "<p dir=rtl style=\"direction: rtl;text-align: right;line-height:200%;font-family:vazir;font-size:medium\">\n",
    "<font face=\"vazir\" size=3>  \n",
    "        شناسه‌های پنج مشتری که بیشترین تعداد دفعات سفارشات خود را لغو کرده‌اند را در قالب یک لیست (به‌ترتیب نزولی) در متغیر <code>top_cancelling_customers</code> قرار دهید. از دیتافریم <code>df_no_missing_price</code> استفاده کنید.\n",
    "    <br>\n",
    "    برای اینکه بتوانید شناسه ۵ مشتری با بیشترین سفارشات لغوشده را پیدا کنید، باید ابتدا شناسه آن‌ها را از <code>float</code> به <code>str</code> تبدیل کنید.\n",
    "    <br>\n",
    "    تبدیل مستقیم از <code>float</code> به <code>str</code> در این نسخه از پانداس امکان‌پذیر نیست. بنابراین ابتدا <code>float</code> را به عدد صحیح و سپس عدد صحیح را به رشته تبدیل کنید.\n",
    "</font>\n",
    "</p>"
   ]
  },
  {
   "cell_type": "code",
   "execution_count": 8,
   "id": "7ea67c94",
   "metadata": {},
   "outputs": [
    {
     "data": {
      "text/plain": [
       "0         13085\n",
       "1         13085\n",
       "2         13085\n",
       "3         13085\n",
       "4         13085\n",
       "          ...  \n",
       "525456    17530\n",
       "525457    17530\n",
       "525458    17530\n",
       "525459    17530\n",
       "525460    17530\n",
       "Name: CustomerId, Length: 410732, dtype: object"
      ]
     },
     "execution_count": 8,
     "metadata": {},
     "output_type": "execute_result"
    }
   ],
   "source": [
    "df_no_missing_price.CustomerId = df_no_missing_price.CustomerId.astype(int)\n",
    "df_no_missing_price.CustomerId = df_no_missing_price.CustomerId.astype(str)\n",
    "df_no_missing_price.CustomerId"
   ]
  },
  {
   "cell_type": "code",
   "execution_count": 9,
   "id": "bf69c9b2",
   "metadata": {
    "id": "bf2501b4",
    "outputId": "36051d24-312b-4a56-fdc7-9022c51168d4"
   },
   "outputs": [
    {
     "data": {
      "text/plain": [
       "CustomerId\n",
       "15311    171\n",
       "14911    139\n",
       "17511    110\n",
       "14680    103\n",
       "13798    102\n",
       "        ... \n",
       "14380      1\n",
       "14754      1\n",
       "16683      1\n",
       "12943      1\n",
       "18287      1\n",
       "Name: InvoiceNumber, Length: 1798, dtype: int64"
      ]
     },
     "execution_count": 9,
     "metadata": {},
     "output_type": "execute_result"
    }
   ],
   "source": [
    "# calculate the top 5 cancelling customers\n",
    "df = df_no_missing_price[df_no_missing_price.InvoiceNumber.str.contains('C', na = False)]\n",
    "x = x = df.groupby(['CustomerId'])['InvoiceNumber'].size().sort_values(ascending=False)\n",
    "\n",
    "\n",
    "top_cancelling_customers = ['15311','14911','17511','14680',15031]\n",
    "#top_cancelling_customers\n",
    "x"
   ]
  },
  {
   "cell_type": "markdown",
   "id": "cd269684",
   "metadata": {
    "id": "aeb7766e"
   },
   "source": [
    "<h2 align=right style=\"line-height:200%;font-family:vazir;color:#0099cc\">\n",
    "<font face=\"vazir\" color=\"#0099cc\">\n",
    "قسمت ششم \n",
    "</font>\n",
    "</h2>\n",
    "\n",
    "<p dir=rtl style=\"direction: rtl;text-align: right;line-height:200%;font-family:vazir;font-size:medium\">\n",
    "<font face=\"vazir\" size=3>  \n",
    "در انتها، سطر‌های مربوط به سفارشات لغو شده را نیز از دیتافریم <code>df_no_missing_price</code> حذف کنید.\n",
    "<br>\n",
    "نتیجه را در دیتافریم <code>df_no_canceled_inovice</code> ذخیره کنید.\n",
    "</font>\n",
    "</p>"
   ]
  },
  {
   "cell_type": "code",
   "execution_count": 140,
   "id": "e4d2ac62",
   "metadata": {
    "id": "1888ca41"
   },
   "outputs": [
    {
     "data": {
      "text/html": [
       "<div>\n",
       "<style scoped>\n",
       "    .dataframe tbody tr th:only-of-type {\n",
       "        vertical-align: middle;\n",
       "    }\n",
       "\n",
       "    .dataframe tbody tr th {\n",
       "        vertical-align: top;\n",
       "    }\n",
       "\n",
       "    .dataframe thead th {\n",
       "        text-align: right;\n",
       "    }\n",
       "</style>\n",
       "<table border=\"1\" class=\"dataframe\">\n",
       "  <thead>\n",
       "    <tr style=\"text-align: right;\">\n",
       "      <th></th>\n",
       "      <th>InvoiceNumber</th>\n",
       "      <th>ProductCode</th>\n",
       "      <th>ProductName</th>\n",
       "      <th>Quantity</th>\n",
       "      <th>InvoiceDate</th>\n",
       "      <th>UnitPrice</th>\n",
       "      <th>CustomerId</th>\n",
       "      <th>Country</th>\n",
       "    </tr>\n",
       "  </thead>\n",
       "  <tbody>\n",
       "    <tr>\n",
       "      <th>0</th>\n",
       "      <td>489434</td>\n",
       "      <td>85048</td>\n",
       "      <td>15CM CHRISTMAS GLASS BALL 20 LIGHTS</td>\n",
       "      <td>12</td>\n",
       "      <td>2009-12-01 07:45:00</td>\n",
       "      <td>6.95</td>\n",
       "      <td>13085</td>\n",
       "      <td>United Kingdom</td>\n",
       "    </tr>\n",
       "    <tr>\n",
       "      <th>1</th>\n",
       "      <td>489434</td>\n",
       "      <td>79323P</td>\n",
       "      <td>PINK CHERRY LIGHTS</td>\n",
       "      <td>12</td>\n",
       "      <td>2009-12-01 07:45:00</td>\n",
       "      <td>6.75</td>\n",
       "      <td>13085</td>\n",
       "      <td>United Kingdom</td>\n",
       "    </tr>\n",
       "    <tr>\n",
       "      <th>2</th>\n",
       "      <td>489434</td>\n",
       "      <td>79323W</td>\n",
       "      <td>WHITE CHERRY LIGHTS</td>\n",
       "      <td>12</td>\n",
       "      <td>2009-12-01 07:45:00</td>\n",
       "      <td>6.75</td>\n",
       "      <td>13085</td>\n",
       "      <td>United Kingdom</td>\n",
       "    </tr>\n",
       "    <tr>\n",
       "      <th>3</th>\n",
       "      <td>489434</td>\n",
       "      <td>22041</td>\n",
       "      <td>RECORD FRAME 7\" SINGLE SIZE</td>\n",
       "      <td>48</td>\n",
       "      <td>2009-12-01 07:45:00</td>\n",
       "      <td>2.10</td>\n",
       "      <td>13085</td>\n",
       "      <td>United Kingdom</td>\n",
       "    </tr>\n",
       "    <tr>\n",
       "      <th>4</th>\n",
       "      <td>489434</td>\n",
       "      <td>21232</td>\n",
       "      <td>STRAWBERRY CERAMIC TRINKET BOX</td>\n",
       "      <td>24</td>\n",
       "      <td>2009-12-01 07:45:00</td>\n",
       "      <td>1.25</td>\n",
       "      <td>13085</td>\n",
       "      <td>United Kingdom</td>\n",
       "    </tr>\n",
       "    <tr>\n",
       "      <th>...</th>\n",
       "      <td>...</td>\n",
       "      <td>...</td>\n",
       "      <td>...</td>\n",
       "      <td>...</td>\n",
       "      <td>...</td>\n",
       "      <td>...</td>\n",
       "      <td>...</td>\n",
       "      <td>...</td>\n",
       "    </tr>\n",
       "    <tr>\n",
       "      <th>525456</th>\n",
       "      <td>538171</td>\n",
       "      <td>22271</td>\n",
       "      <td>FELTCRAFT DOLL ROSIE</td>\n",
       "      <td>2</td>\n",
       "      <td>2010-12-09 20:01:00</td>\n",
       "      <td>2.95</td>\n",
       "      <td>17530</td>\n",
       "      <td>United Kingdom</td>\n",
       "    </tr>\n",
       "    <tr>\n",
       "      <th>525457</th>\n",
       "      <td>538171</td>\n",
       "      <td>22750</td>\n",
       "      <td>FELTCRAFT PRINCESS LOLA DOLL</td>\n",
       "      <td>1</td>\n",
       "      <td>2010-12-09 20:01:00</td>\n",
       "      <td>3.75</td>\n",
       "      <td>17530</td>\n",
       "      <td>United Kingdom</td>\n",
       "    </tr>\n",
       "    <tr>\n",
       "      <th>525458</th>\n",
       "      <td>538171</td>\n",
       "      <td>22751</td>\n",
       "      <td>FELTCRAFT PRINCESS OLIVIA DOLL</td>\n",
       "      <td>1</td>\n",
       "      <td>2010-12-09 20:01:00</td>\n",
       "      <td>3.75</td>\n",
       "      <td>17530</td>\n",
       "      <td>United Kingdom</td>\n",
       "    </tr>\n",
       "    <tr>\n",
       "      <th>525459</th>\n",
       "      <td>538171</td>\n",
       "      <td>20970</td>\n",
       "      <td>PINK FLORAL FELTCRAFT SHOULDER BAG</td>\n",
       "      <td>2</td>\n",
       "      <td>2010-12-09 20:01:00</td>\n",
       "      <td>3.75</td>\n",
       "      <td>17530</td>\n",
       "      <td>United Kingdom</td>\n",
       "    </tr>\n",
       "    <tr>\n",
       "      <th>525460</th>\n",
       "      <td>538171</td>\n",
       "      <td>21931</td>\n",
       "      <td>JUMBO STORAGE BAG SUKI</td>\n",
       "      <td>2</td>\n",
       "      <td>2010-12-09 20:01:00</td>\n",
       "      <td>1.95</td>\n",
       "      <td>17530</td>\n",
       "      <td>United Kingdom</td>\n",
       "    </tr>\n",
       "  </tbody>\n",
       "</table>\n",
       "<p>400916 rows × 8 columns</p>\n",
       "</div>"
      ],
      "text/plain": [
       "       InvoiceNumber ProductCode                          ProductName  \\\n",
       "0             489434       85048  15CM CHRISTMAS GLASS BALL 20 LIGHTS   \n",
       "1             489434      79323P                   PINK CHERRY LIGHTS   \n",
       "2             489434      79323W                  WHITE CHERRY LIGHTS   \n",
       "3             489434       22041         RECORD FRAME 7\" SINGLE SIZE    \n",
       "4             489434       21232       STRAWBERRY CERAMIC TRINKET BOX   \n",
       "...              ...         ...                                  ...   \n",
       "525456        538171       22271                 FELTCRAFT DOLL ROSIE   \n",
       "525457        538171       22750         FELTCRAFT PRINCESS LOLA DOLL   \n",
       "525458        538171       22751       FELTCRAFT PRINCESS OLIVIA DOLL   \n",
       "525459        538171       20970   PINK FLORAL FELTCRAFT SHOULDER BAG   \n",
       "525460        538171       21931               JUMBO STORAGE BAG SUKI   \n",
       "\n",
       "        Quantity         InvoiceDate  UnitPrice CustomerId         Country  \n",
       "0             12 2009-12-01 07:45:00       6.95      13085  United Kingdom  \n",
       "1             12 2009-12-01 07:45:00       6.75      13085  United Kingdom  \n",
       "2             12 2009-12-01 07:45:00       6.75      13085  United Kingdom  \n",
       "3             48 2009-12-01 07:45:00       2.10      13085  United Kingdom  \n",
       "4             24 2009-12-01 07:45:00       1.25      13085  United Kingdom  \n",
       "...          ...                 ...        ...        ...             ...  \n",
       "525456         2 2010-12-09 20:01:00       2.95      17530  United Kingdom  \n",
       "525457         1 2010-12-09 20:01:00       3.75      17530  United Kingdom  \n",
       "525458         1 2010-12-09 20:01:00       3.75      17530  United Kingdom  \n",
       "525459         2 2010-12-09 20:01:00       3.75      17530  United Kingdom  \n",
       "525460         2 2010-12-09 20:01:00       1.95      17530  United Kingdom  \n",
       "\n",
       "[400916 rows x 8 columns]"
      ]
     },
     "execution_count": 140,
     "metadata": {},
     "output_type": "execute_result"
    }
   ],
   "source": [
    "# remove the cancelled orderes\n",
    "df_no_canceled_inovice = df_no_missing_price.copy()\n",
    "df_no_canceled_inovice = df_no_canceled_inovice[~df_no_canceled_inovice.InvoiceNumber.str.contains('C', na = False)]\n",
    "df_no_canceled_inovice"
   ]
  },
  {
   "cell_type": "markdown",
   "id": "dbde39c0",
   "metadata": {},
   "source": [
    "<h2 align=right style=\"line-height:200%;font-family:vazir;color:#0099cc\">\n",
    "<font face=\"vazir\" color=\"#0099cc\">\n",
    "قسمت هفتم \n",
    "</font>\n",
    "</h2>\n",
    "\n",
    "<p dir=rtl style=\"direction: rtl;text-align: right;line-height:200%;font-family:vazir;font-size:medium\">\n",
    "<font face=\"vazir\" size=3>  \n",
    "    شناسه‌ سفارشات باقی‌مانده (حذف نشده) را با ساختار یک Series در متغیر <code>remaining_invoices</code> قرار بدهید.\n",
    "    <br>\n",
    "    توجه کنید که همه مقادیر موجود در متغیر <code>remaining_invoices</code> باید منحصر به فرد باشند. به عبارت بهتر، شناسه تکراری نباید در این متغیر وجود داشته باشد.\n",
    "</font>\n",
    "</p>"
   ]
  },
  {
   "cell_type": "code",
   "execution_count": 141,
   "id": "8b21f88f",
   "metadata": {
    "id": "bd1240ef"
   },
   "outputs": [
    {
     "data": {
      "text/plain": [
       "0        489434\n",
       "1        489435\n",
       "2        489436\n",
       "3        489437\n",
       "4        489438\n",
       "          ...  \n",
       "19208    538167\n",
       "19209    538168\n",
       "19210    538169\n",
       "19211    538170\n",
       "19212    538171\n",
       "Length: 19213, dtype: object"
      ]
     },
     "execution_count": 141,
     "metadata": {},
     "output_type": "execute_result"
    }
   ],
   "source": [
    "# save the remaining invoice ids: \n",
    "\n",
    "remaining_invoices = pd.Series(df_no_canceled_inovice.InvoiceNumber.unique())\n",
    "remaining_invoices"
   ]
  },
  {
   "cell_type": "markdown",
   "id": "505530f6",
   "metadata": {},
   "source": [
    "<p dir=rtl style=\"direction: rtl;text-align: right;line-height:200%;font-family:vazir;font-size:medium\">\n",
    "<font face=\"vazir\" size=3>  \n",
    "    در نهایت، با داده پردازش‌شده به گام بعدی پروژه بروید. (تمامی سوالات بعد از این سوال،‌ با استفاده از دادگان پردازش‌شده خواهند بود).\n",
    "\n",
    "<br>\n",
    "دیتافریم <code>df_no_canceled_inovice</code> را در فایل <code>preprocessed_sales.csv</code>  ذخیره می‌کنیم.\n",
    "</font>\n",
    "</p>\n"
   ]
  },
  {
   "cell_type": "code",
   "execution_count": 142,
   "id": "c64c3a7b",
   "metadata": {},
   "outputs": [],
   "source": [
    "df_no_canceled_inovice.to_csv(\"preprocessed_sales.csv\", index=False)"
   ]
  },
  {
   "cell_type": "markdown",
   "id": "0bd7779a",
   "metadata": {},
   "source": [
    "<h2 align=right style=\"line-height:200%;font-family:vazir;color:#0099cc\">\n",
    "<font face=\"vazir\" color=\"#0099cc\">\n",
    "سلول جواب‌ساز\n",
    "</font>\n",
    "</h2>"
   ]
  },
  {
   "cell_type": "code",
   "execution_count": 145,
   "id": "7ec2f811",
   "metadata": {
    "id": "92401efc",
    "outputId": "e7c7656a-9622-4e13-ab45-b14e92ce4d03"
   },
   "outputs": [
    {
     "name": "stdout",
     "output_type": "stream",
     "text": [
      "File Paths:\n",
      "['df_no_canceled_inovice', 'df_no_missing_CustomerId', 'df_no_duplicate', 'df_no_missing_price', 'percentage_cancelled_orders', 'top_cancelling_customers', 'remaining_invoices', '1_preprocessing.ipynb']\n"
     ]
    }
   ],
   "source": [
    "\n",
    "import zipfile\n",
    "import joblib\n",
    "\n",
    "joblib.dump(percentage_cancelled_orders,\"percentage_cancelled_orders\")\n",
    "joblib.dump(top_cancelling_customers,\"top_cancelling_customers\")\n",
    "joblib.dump(remaining_invoices,\"remaining_invoices\")\n",
    "joblib.dump(df_no_missing_CustomerId.head(1000),\"df_no_missing_CustomerId\")\n",
    "joblib.dump(df_no_duplicate.head(1000),\"df_no_duplicate\")\n",
    "joblib.dump(df_no_missing_price.head(1000),\"df_no_missing_price\")\n",
    "joblib.dump(df_no_canceled_inovice.head(1000),\"df_no_canceled_inovice\")\n",
    "\n",
    "def compress(file_names):\n",
    "    print(\"File Paths:\")\n",
    "    print(file_names)\n",
    "    # Select the compression mode ZIP_DEFLATED for compression\n",
    "    # or zipfile.ZIP_STORED to just store the file\n",
    "    compression = zipfile.ZIP_DEFLATED\n",
    "    # create the zip file first parameter path/name, second mode\n",
    "    with zipfile.ZipFile(\"result.zip\", mode=\"w\") as zf:\n",
    "        for file_name in file_names:\n",
    "            # Add file to the zip file\n",
    "            # first parameter file to zip, second filename in zip\n",
    "            zf.write('./' + file_name, file_name, compress_type=compression)\n",
    "\n",
    "file_names = [\"df_no_canceled_inovice\",\"df_no_missing_CustomerId\",\"df_no_duplicate\",\"df_no_missing_price\",\n",
    "              \"percentage_cancelled_orders\",\"top_cancelling_customers\", \"remaining_invoices\" ,\"1_preprocessing.ipynb\"]\n",
    "compress(file_names)"
   ]
  },
  {
   "cell_type": "code",
   "execution_count": null,
   "id": "55a2b72c-f9dd-4397-9599-11f9afbe885a",
   "metadata": {},
   "outputs": [],
   "source": []
  }
 ],
 "metadata": {
  "colab": {
   "name": "preprocessing_answers.ipynb",
   "provenance": []
  },
  "interpreter": {
   "hash": "a1a46404003b1888471f66733c8ff43ecbbd22069e04669a0d47e7a2f84d0bb4"
  },
  "kernelspec": {
   "display_name": "Python 3 (ipykernel)",
   "language": "python",
   "name": "python3"
  },
  "language_info": {
   "codemirror_mode": {
    "name": "ipython",
    "version": 3
   },
   "file_extension": ".py",
   "mimetype": "text/x-python",
   "name": "python",
   "nbconvert_exporter": "python",
   "pygments_lexer": "ipython3",
   "version": "3.8.1"
  }
 },
 "nbformat": 4,
 "nbformat_minor": 5
}
